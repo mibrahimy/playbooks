{
 "cells": [
  {
   "cell_type": "code",
   "execution_count": 69,
   "metadata": {},
   "outputs": [],
   "source": [
    "import tensorflow as tf\n",
    "import numpy as np"
   ]
  },
  {
   "cell_type": "code",
   "execution_count": 70,
   "metadata": {},
   "outputs": [],
   "source": [
    "(x_train, y_train), (x_test, y_test) = tf.keras.datasets.mnist.load_data()\n"
   ]
  },
  {
   "cell_type": "code",
   "execution_count": 71,
   "metadata": {},
   "outputs": [
    {
     "data": {
      "text/plain": [
       "(60000, 28, 28)"
      ]
     },
     "execution_count": 71,
     "metadata": {},
     "output_type": "execute_result"
    }
   ],
   "source": [
    "x_train.shape"
   ]
  },
  {
   "cell_type": "code",
   "execution_count": 72,
   "metadata": {},
   "outputs": [
    {
     "data": {
      "text/plain": [
       "(60000,)"
      ]
     },
     "execution_count": 72,
     "metadata": {},
     "output_type": "execute_result"
    }
   ],
   "source": [
    "y_train.shape"
   ]
  },
  {
   "cell_type": "code",
   "execution_count": null,
   "metadata": {},
   "outputs": [],
   "source": [
    "# inputs = tf.keras.Input(shape=(28,28), name=\"digits\")\n",
    "# flatten = tf.keras.layers.Flatten()(inputs)\n",
    "# x1 = tf.keras.layers.Dense(100, activation=\"sigmoid\")(flatten)\n",
    "# outputs  = tf.keras.layers.Dense(10, activation=\"softmax\")(x1)\n",
    "# model_fullyconnect = tf.keras.Model(inputs, outputs)"
   ]
  },
  {
   "cell_type": "code",
   "execution_count": null,
   "metadata": {},
   "outputs": [],
   "source": [
    "# model_fullyconnect.compile(optimizer=\"SGD\", loss=tf.keras.losses.SparseCategoricalCrossentropy(), metrics=[\"accuracy\"] )"
   ]
  },
  {
   "cell_type": "code",
   "execution_count": null,
   "metadata": {},
   "outputs": [],
   "source": [
    "# model_fullyconnect.fit(x_train, y_train, 64,validation_split=0.1, epochs=60)"
   ]
  },
  {
   "cell_type": "code",
   "execution_count": null,
   "metadata": {},
   "outputs": [],
   "source": [
    "# model_fullyconnect.summary()"
   ]
  },
  {
   "cell_type": "code",
   "execution_count": null,
   "metadata": {},
   "outputs": [],
   "source": [
    "# %matplotlib inline  \n",
    "# import matplotlib.pyplot as plt"
   ]
  },
  {
   "cell_type": "code",
   "execution_count": null,
   "metadata": {
    "scrolled": false
   },
   "outputs": [],
   "source": [
    "# accuracy = model_fullyconnect.history.history['accuracy']"
   ]
  },
  {
   "cell_type": "code",
   "execution_count": null,
   "metadata": {},
   "outputs": [],
   "source": [
    "# val_accuracy = model_fullyconnect.history.history['val_accuracy']"
   ]
  },
  {
   "cell_type": "code",
   "execution_count": null,
   "metadata": {},
   "outputs": [],
   "source": [
    "# plt.plot(accuracy, model_fullyconnect.history.epoch )\n",
    "# plt.plot(val_accuracy, model_fullyconnect.history.epoch)"
   ]
  },
  {
   "cell_type": "code",
   "execution_count": null,
   "metadata": {},
   "outputs": [],
   "source": [
    "# loss = model_fullyconnect.history.history['loss']\n",
    "# val_loss = model_fullyconnect.history.history['val_loss']\n",
    "# plt.plot(loss, model_fullyconnect.history.epoch)\n",
    "# plt.plot(val_loss, model_fullyconnect.history.epoch)"
   ]
  },
  {
   "cell_type": "code",
   "execution_count": null,
   "metadata": {
    "scrolled": true
   },
   "outputs": [],
   "source": [
    "# inputs = tf.keras.Input(shape=(28,28,1), name=\"digits\")\n",
    "# conv1 = tf.keras.layers.Conv2D(20, kernel_size=5)(inputs)\n",
    "# pool1 = tf.keras.layers.MaxPool2D(2,2)(conv1)\n",
    "# flatten = tf.keras.layers.Flatten()(pool1)\n",
    "# x1 = tf.keras.layers.Dense(100, activation=\"sigmoid\")(flatten)\n",
    "# outputs  = tf.keras.layers.Dense(10, activation=\"softmax\")(x1)\n",
    "# model_conv = tf.keras.Model(inputs, outputs)"
   ]
  },
  {
   "cell_type": "code",
   "execution_count": null,
   "metadata": {},
   "outputs": [],
   "source": [
    "# model_conv.compile(optimizer=\"SGD\", loss=tf.keras.losses.SparseCategoricalCrossentropy(), metrics=[\"accuracy\"] )"
   ]
  },
  {
   "cell_type": "code",
   "execution_count": null,
   "metadata": {},
   "outputs": [],
   "source": [
    "# model_conv.summary()"
   ]
  },
  {
   "cell_type": "code",
   "execution_count": null,
   "metadata": {
    "scrolled": true
   },
   "outputs": [],
   "source": [
    "# model_conv.fit(x_train, y_train, 64,validation_split=0.1, epochs=60)"
   ]
  },
  {
   "cell_type": "code",
   "execution_count": null,
   "metadata": {},
   "outputs": [],
   "source": []
  },
  {
   "cell_type": "code",
   "execution_count": null,
   "metadata": {},
   "outputs": [],
   "source": [
    "# loss = model_conv.history.history['loss']\n",
    "# val_loss = model_conv.history.history['val_loss']\n",
    "# plt.plot(loss, model_conv.history.epoch)\n",
    "# plt.plot(val_loss, model_conv.history.epoch)"
   ]
  },
  {
   "cell_type": "code",
   "execution_count": 77,
   "metadata": {},
   "outputs": [
    {
     "data": {
      "text/plain": [
       "(60000, 28, 28, 1)"
      ]
     },
     "execution_count": 77,
     "metadata": {},
     "output_type": "execute_result"
    }
   ],
   "source": [
    "x_train.shape"
   ]
  },
  {
   "cell_type": "code",
   "execution_count": 76,
   "metadata": {},
   "outputs": [],
   "source": [
    "x_train = np.reshape(x_train,[-1,28,28,1])"
   ]
  },
  {
   "cell_type": "code",
   "execution_count": null,
   "metadata": {},
   "outputs": [],
   "source": [
    "inputs = tf.keras.Input(shape=(28,28,1), name=\"digits\")\n",
    "conv1 = tf.keras.layers.Conv2D(20, kernel_size=5,activation=\"tanh\" )(inputs)\n",
    "pool1 = tf.keras.layers.MaxPool2D(2,2)(conv1)\n",
    "conv2 = tf.keras.layers.Conv2D(40, kernel_size=3, activation=\"tanh\")(pool1)\n",
    "pool2 = tf.keras.layers.MaxPool2D(2,2)(conv2)\n",
    "# conv3 = tf.keras.layers.Conv2D(20, kernel_size=3, activation=\"sigmoid\")(pool2)\n",
    "# pool3 = tf.keras.layers.MaxPool2D(2,2)(conv3)\n",
    "\n",
    "conv4 = tf.keras.layers.Conv2D(20, kernel_size=3, activation=\"tanh\")(pool2)\n",
    "conv5 = tf.keras.layers.Conv2D(10, kernel_size=3, activation=\"tanh\")(conv4)\n",
    "softmax = tf.keras.layers.Softmax()(conv5)\n",
    "\n",
    "model_fullyconv = tf.keras.Model(inputs, softmax)\n",
    "model_fullyconv.compile(optimizer=tf.keras.optimizers.SGD(), loss=tf.keras.losses.SparseCategoricalCrossentropy(), metrics=[\"accuracy\"] )"
   ]
  },
  {
   "cell_type": "code",
   "execution_count": null,
   "metadata": {},
   "outputs": [],
   "source": [
    "model_fullyconv.summary()"
   ]
  },
  {
   "cell_type": "code",
   "execution_count": null,
   "metadata": {
    "scrolled": true
   },
   "outputs": [],
   "source": [
    "model_fullyconv.fit(x_train, y_train, 64,validation_split=0.1, epochs=60)"
   ]
  },
  {
   "cell_type": "code",
   "execution_count": 90,
   "metadata": {},
   "outputs": [
    {
     "name": "stdout",
     "output_type": "stream",
     "text": [
      "Model: \"sequential_9\"\n",
      "_________________________________________________________________\n",
      "Layer (type)                 Output Shape              Param #   \n",
      "=================================================================\n",
      "conv2d_94 (Conv2D)           (None, 26, 26, 16)        160       \n",
      "_________________________________________________________________\n",
      "conv2d_95 (Conv2D)           (None, 24, 24, 16)        2320      \n",
      "_________________________________________________________________\n",
      "max_pooling2d_38 (MaxPooling (None, 12, 12, 16)        0         \n",
      "_________________________________________________________________\n",
      "conv2d_96 (Conv2D)           (None, 10, 10, 24)        3480      \n",
      "_________________________________________________________________\n",
      "conv2d_97 (Conv2D)           (None, 8, 8, 24)          5208      \n",
      "_________________________________________________________________\n",
      "max_pooling2d_39 (MaxPooling (None, 4, 4, 24)          0         \n",
      "_________________________________________________________________\n",
      "conv2d_98 (Conv2D)           (None, 1, 1, 32)          12320     \n",
      "_________________________________________________________________\n",
      "conv2d_99 (Conv2D)           (None, 1, 1, 10)          330       \n",
      "_________________________________________________________________\n",
      "softmax_11 (Softmax)         (None, 1, 1, 10)          0         \n",
      "_________________________________________________________________\n",
      "reshape_9 (Reshape)          (None, 10)                0         \n",
      "=================================================================\n",
      "Total params: 23,818\n",
      "Trainable params: 23,818\n",
      "Non-trainable params: 0\n",
      "_________________________________________________________________\n"
     ]
    }
   ],
   "source": [
    "from tensorflow.keras.layers import Conv2D, MaxPool2D, InputLayer, Reshape\n",
    "\n",
    "\n",
    "model = tf.keras.models.Sequential([\n",
    "    InputLayer([28,28,1]),\n",
    "    Conv2D(filters=16, kernel_size=3, activation='sigmoid'),\n",
    "    Conv2D(filters=16, kernel_size=3, activation='sigmoid'),\n",
    "    MaxPool2D(pool_size=2),\n",
    "    Conv2D(filters=24, kernel_size=3, activation='sigmoid'),\n",
    "    Conv2D(filters=24, kernel_size=3, activation='sigmoid'),\n",
    "    MaxPool2D(pool_size=2),\n",
    "    Conv2D(filters=32, kernel_size=4, activation='sigmoid'),\n",
    "    Conv2D(filters=10, kernel_size=1, activation=None),\n",
    "    tf.keras.layers.Softmax(),\n",
    "    Reshape([10])\n",
    "    ])\n",
    "\n",
    "model.summary()\n",
    "model.compile(loss='sparse_categorical_crossentropy', optimizer='sgd', metrics=['accuracy'])\n"
   ]
  },
  {
   "cell_type": "code",
   "execution_count": null,
   "metadata": {},
   "outputs": [
    {
     "name": "stdout",
     "output_type": "stream",
     "text": [
      "Epoch 1/60\n",
      "844/844 [==============================] - 25s 30ms/step - loss: 2.3047 - accuracy: 0.1115 - val_loss: 2.3020 - val_accuracy: 0.1050\n",
      "Epoch 2/60\n",
      "611/844 [====================>.........] - ETA: 6s - loss: 2.3014 - accuracy: 0.1129"
     ]
    }
   ],
   "source": [
    "model.fit(x_train, y_train, 64,validation_split=0.1, epochs=60)"
   ]
  },
  {
   "cell_type": "code",
   "execution_count": null,
   "metadata": {},
   "outputs": [],
   "source": []
  }
 ],
 "metadata": {
  "kernelspec": {
   "display_name": "tf3",
   "language": "python",
   "name": "tf3"
  },
  "language_info": {
   "codemirror_mode": {
    "name": "ipython",
    "version": 3
   },
   "file_extension": ".py",
   "mimetype": "text/x-python",
   "name": "python",
   "nbconvert_exporter": "python",
   "pygments_lexer": "ipython3",
   "version": "3.5.2"
  }
 },
 "nbformat": 4,
 "nbformat_minor": 2
}
